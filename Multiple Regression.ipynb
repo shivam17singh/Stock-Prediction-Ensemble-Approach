{
 "cells": [
  {
   "cell_type": "code",
   "execution_count": 1,
   "metadata": {},
   "outputs": [],
   "source": [
    "\n",
    "from sklearn import linear_model\n",
    "import matplotlib.pyplot as plt\n",
    "\n",
    "from matplotlib import style\n",
    "import pandas as pd\n",
    "import numpy as np\n",
    "\n",
    "from sklearn.model_selection import train_test_split\n",
    "\n",
    "from sklearn import preprocessing\n"
   ]
  },
  {
   "cell_type": "code",
   "execution_count": 2,
   "metadata": {},
   "outputs": [],
   "source": [
    "ldt=pd.read_csv('yahoostock.csv')"
   ]
  },
  {
   "cell_type": "code",
   "execution_count": 3,
   "metadata": {},
   "outputs": [],
   "source": [
    "ldta=ldt[['Open']]\n",
    "ldtx=ldt[['Open','High','Low','Volume']]\n",
    "ldty=ldt[['Close']]\n",
    "ldto=ldty.iloc[0:100,:]\n",
    "ldto=ldto[::-1]\n",
    "ldtp=ldtx.iloc[:100,:]\n",
    "ldtp=ldtp[::-1]\n",
    "ldto=ldto.values"
   ]
  },
  {
   "cell_type": "code",
   "execution_count": 4,
   "metadata": {},
   "outputs": [],
   "source": [
    "ldtx=ldtx.iloc[100:,:]\n",
    "ldty=ldty.iloc[100:,:]\n",
    "count=0\n",
    "original=0"
   ]
  },
  {
   "cell_type": "code",
   "execution_count": 5,
   "metadata": {},
   "outputs": [],
   "source": [
    "lf=linear_model.LinearRegression()"
   ]
  },
  {
   "cell_type": "code",
   "execution_count": 6,
   "metadata": {},
   "outputs": [],
   "source": [
    "ltrainx,ltestx,ltrainy,ltesty=train_test_split(ldtx,ldty,test_size=0.1,random_state=4)"
   ]
  },
  {
   "cell_type": "code",
   "execution_count": 7,
   "metadata": {},
   "outputs": [
    {
     "data": {
      "text/plain": [
       "LinearRegression(copy_X=True, fit_intercept=True, n_jobs=None,\n",
       "         normalize=False)"
      ]
     },
     "execution_count": 7,
     "metadata": {},
     "output_type": "execute_result"
    }
   ],
   "source": [
    "lf.fit(ltrainx,ltrainy)"
   ]
  },
  {
   "cell_type": "code",
   "execution_count": 8,
   "metadata": {},
   "outputs": [
    {
     "data": {
      "text/plain": [
       "array([[33.59877375],\n",
       "       [32.74124999],\n",
       "       [33.36012778],\n",
       "       [32.70517134],\n",
       "       [33.53789867],\n",
       "       [33.51338116],\n",
       "       [36.04623062],\n",
       "       [34.43325745],\n",
       "       [34.91087669],\n",
       "       [34.61594844],\n",
       "       [34.67251697],\n",
       "       [33.6568814 ],\n",
       "       [34.18209259],\n",
       "       [33.10824462],\n",
       "       [32.58605072],\n",
       "       [33.21195788],\n",
       "       [33.53870547],\n",
       "       [33.4222906 ],\n",
       "       [33.3331197 ],\n",
       "       [32.87289758],\n",
       "       [33.98703643],\n",
       "       [34.28671006],\n",
       "       [34.53007532],\n",
       "       [33.41030241],\n",
       "       [34.02961831],\n",
       "       [33.54649187],\n",
       "       [33.54170526],\n",
       "       [31.4917216 ],\n",
       "       [32.16917123],\n",
       "       [32.25948275],\n",
       "       [30.35018351],\n",
       "       [30.96122225],\n",
       "       [29.95346473],\n",
       "       [30.57232587],\n",
       "       [29.80784508],\n",
       "       [29.6015134 ],\n",
       "       [29.10302613],\n",
       "       [29.51765583],\n",
       "       [27.79548402],\n",
       "       [29.15886173],\n",
       "       [29.86649217],\n",
       "       [30.06572193],\n",
       "       [29.9760088 ],\n",
       "       [30.03355994],\n",
       "       [28.94336711],\n",
       "       [28.94031915],\n",
       "       [29.28429693],\n",
       "       [29.12036637],\n",
       "       [27.07784511],\n",
       "       [28.87411195],\n",
       "       [27.99831311],\n",
       "       [26.97212809],\n",
       "       [27.4038068 ],\n",
       "       [27.44749329],\n",
       "       [26.60651158],\n",
       "       [26.92903234],\n",
       "       [29.18046325],\n",
       "       [29.25944737],\n",
       "       [29.88732573],\n",
       "       [29.79895144],\n",
       "       [30.89637741],\n",
       "       [30.75433494],\n",
       "       [30.47749406],\n",
       "       [30.83537917],\n",
       "       [31.45864776],\n",
       "       [32.27264028],\n",
       "       [32.70199324],\n",
       "       [33.10383414],\n",
       "       [32.8581899 ],\n",
       "       [33.64224416],\n",
       "       [34.18702105],\n",
       "       [33.09475266],\n",
       "       [33.16371348],\n",
       "       [32.32892599],\n",
       "       [33.36540011],\n",
       "       [33.79485306],\n",
       "       [33.2240917 ],\n",
       "       [33.86417982],\n",
       "       [34.40104111],\n",
       "       [34.95755624],\n",
       "       [35.90427665],\n",
       "       [35.43504584],\n",
       "       [35.02293961],\n",
       "       [34.34222637],\n",
       "       [34.76306566],\n",
       "       [36.18019925],\n",
       "       [37.01574993],\n",
       "       [36.90926619],\n",
       "       [36.60121953],\n",
       "       [37.32926378],\n",
       "       [36.44838206],\n",
       "       [36.811575  ],\n",
       "       [36.94504425],\n",
       "       [35.86245581],\n",
       "       [36.69398528],\n",
       "       [36.45155958],\n",
       "       [37.22528103],\n",
       "       [36.94666778],\n",
       "       [36.52845982],\n",
       "       [36.56147545]])"
      ]
     },
     "execution_count": 8,
     "metadata": {},
     "output_type": "execute_result"
    }
   ],
   "source": [
    "ls=lf.predict(ldtp)\n",
    "ls"
   ]
  },
  {
   "cell_type": "code",
   "execution_count": 9,
   "metadata": {},
   "outputs": [],
   "source": [
    "for i in range(len(ls)):\n",
    "    if (ls[i]>ldto[i]):\n",
    "        count=((ls[i]-ldto[i])/ldto[i])\n",
    "        original=original+count\n",
    "    if (ls[i]<ldto[i]):\n",
    "        count=((ldto[i]-ls[i])/ldto[i])\n",
    "        original=original+count\n",
    "\n",
    "       \n",
    "       "
   ]
  },
  {
   "cell_type": "code",
   "execution_count": 10,
   "metadata": {},
   "outputs": [
    {
     "name": "stdout",
     "output_type": "stream",
     "text": [
      "Accuracy [99.24800116]\n"
     ]
    }
   ],
   "source": [
    "t=100-((original/len(ls))*100)\n",
    "print(\"Accuracy\",t)"
   ]
  },
  {
   "cell_type": "code",
   "execution_count": 11,
   "metadata": {},
   "outputs": [
    {
     "data": {
      "image/png": "[encoded data removed]",
      "text/plain": [
       "<matplotlib.figure.Figure at 0x270ae1ed710>"
      ]
     },
     "metadata": {
      "needs_background": "light"
     },
     "output_type": "display_data"
    }
   ],
   "source": [
    "import matplotlib.pyplot as plt2\n",
    "\n",
    "plt2.plot(ls,color='red', label='prediction')\n",
    "plt2.plot(ldto,color='blue', label='y_test')\n",
    "plt2.legend(loc='upper left')\n",
    "plt2.xlabel('days>')\n",
    "plt2.ylabel('prices->')\n",
    "plt2.show()"
   ]
  },
  {
   "cell_type": "code",
   "execution_count": null,
   "metadata": {},
   "outputs": [],
   "source": []
  },
  {
   "cell_type": "code",
   "execution_count": null,
   "metadata": {},
   "outputs": [],
   "source": []
  },
  {
   "cell_type": "code",
   "execution_count": null,
   "metadata": {},
   "outputs": [],
   "source": []
  },
  {
   "cell_type": "code",
   "execution_count": null,
   "metadata": {},
   "outputs": [],
   "source": []
  },
  {
   "cell_type": "code",
   "execution_count": null,
   "metadata": {},
   "outputs": [],
   "source": []
  },
  {
   "cell_type": "code",
   "execution_count": null,
   "metadata": {},
   "outputs": [],
   "source": []
  },
  {
   "cell_type": "code",
   "execution_count": null,
   "metadata": {},
   "outputs": [],
   "source": []
  },
  {
   "cell_type": "code",
   "execution_count": null,
   "metadata": {},
   "outputs": [],
   "source": []
  }
 ],
 "metadata": {
  "kernelspec": {
   "display_name": "Python 3",
   "language": "python",
   "name": "python3"
  },
  "language_info": {
   "codemirror_mode": {
    "name": "ipython",
    "version": 3
   },
   "file_extension": ".py",
   "mimetype": "text/x-python",
   "name": "python",
   "nbconvert_exporter": "python",
   "pygments_lexer": "ipython3",
   "version": "3.6.7"
  }
 },
 "nbformat": 4,
 "nbformat_minor": 2
}
